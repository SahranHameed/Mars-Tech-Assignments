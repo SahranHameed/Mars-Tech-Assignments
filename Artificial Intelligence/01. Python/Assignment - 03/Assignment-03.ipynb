{
 "cells": [
  {
   "cell_type": "code",
   "execution_count": 13,
   "id": "546e6d17-fda8-4239-a16a-f489d4eb9d0a",
   "metadata": {},
   "outputs": [
    {
     "name": "stdout",
     "output_type": "stream",
     "text": [
      "0\n",
      "1\n",
      "2\n",
      "3\n",
      "4\n",
      "5\n",
      "6\n",
      "7\n",
      "8\n",
      "9\n",
      "10\n",
      "11\n",
      "12\n",
      "13\n",
      "14\n",
      "15\n",
      "16\n",
      "17\n",
      "18\n",
      "19\n"
     ]
    }
   ],
   "source": [
    "1.# print 0 to 20 by using range\n",
    "for x in range(0,20):\n",
    "    print(x)"
   ]
  },
  {
   "cell_type": "code",
   "execution_count": 11,
   "id": "8b8e6544-e6cb-415d-ae3d-650e434ff6ce",
   "metadata": {},
   "outputs": [
    {
     "name": "stdout",
     "output_type": "stream",
     "text": [
      "10\n",
      "11\n",
      "12\n",
      "13\n",
      "14\n",
      "15\n",
      "16\n",
      "17\n",
      "18\n",
      "19\n"
     ]
    }
   ],
   "source": [
    "2.# print range 10 to 20\n",
    "for x in range(10,20):\n",
    "    print(x)"
   ]
  },
  {
   "cell_type": "code",
   "execution_count": 11,
   "id": "b4a6c1c7-fb6b-440f-8776-ddbb515d13f9",
   "metadata": {},
   "outputs": [
    {
     "name": "stdout",
     "output_type": "stream",
     "text": [
      "[10, 20, 14, 55, 43, 87, 76]\n",
      "Number of item in the List2:\n",
      " 7\n"
     ]
    }
   ],
   "source": [
    "3.# print number of items in the list by using ‘len’\n",
    "num_of_list = [10,20,14,55,43,87,76]\n",
    "length = len(num_of_list)\n",
    "print (num_of_list)\n",
    "print(\"Number of item in the List2:\\n\",length)\n"
   ]
  },
  {
   "cell_type": "code",
   "execution_count": 17,
   "id": "e08626c0-47e4-441a-8141-63bb9bc6f8ed",
   "metadata": {},
   "outputs": [
    {
     "name": "stdout",
     "output_type": "stream",
     "text": [
      "Artificial Intelligence\n",
      "A\n",
      "r\n",
      "t\n",
      "i\n",
      "f\n",
      "i\n",
      "c\n",
      "i\n",
      "a\n",
      "l\n",
      " \n",
      "I\n",
      "n\n",
      "t\n",
      "e\n",
      "l\n",
      "l\n",
      "i\n",
      "g\n",
      "e\n",
      "n\n",
      "c\n",
      "e\n"
     ]
    }
   ],
   "source": [
    "print(\"Artificial Intelligence\")\n",
    "l =\"Artificial Intelligence\"\n",
    "\n",
    "for i in range (len(l)):\n",
    "    print(l[i])"
   ]
  },
  {
   "cell_type": "code",
   "execution_count": 25,
   "id": "22d423ff-196b-4bb7-b077-14a0e0f5968d",
   "metadata": {},
   "outputs": [
    {
     "name": "stdout",
     "output_type": "stream",
     "text": [
      "-Your Name-\n",
      "-Your Age-\n",
      "-Your Profession-\n"
     ]
    }
   ],
   "source": [
    "print(\"-Your Name-\")\n",
    "print(\"-Your Age-\")\n",
    "print(\"-Your Profession-\")"
   ]
  },
  {
   "cell_type": "code",
   "execution_count": 34,
   "id": "16d0d3dc-15d3-49fa-9469-131f6e9719c3",
   "metadata": {},
   "outputs": [
    {
     "name": "stdout",
     "output_type": "stream",
     "text": [
      "(1,‘Welcome’ , 2,‘mars tech’)\n"
     ]
    }
   ],
   "source": [
    "#Tuples\n",
    "print(\"(1,‘Welcome’ , 2,‘mars tech’)\")"
   ]
  },
  {
   "cell_type": "code",
   "execution_count": 93,
   "id": "b861b5de-3689-4826-a1b5-aa0b46d04498",
   "metadata": {},
   "outputs": [
    {
     "name": "stdout",
     "output_type": "stream",
     "text": [
      "((0, 1, 2, 3),) ('python’,‘mars tech'))\n"
     ]
    }
   ],
   "source": [
    "Tuple = (0,1,2,3),\n",
    "print (Tuple,\"('python’,‘mars tech'))\")"
   ]
  },
  {
   "cell_type": "code",
   "execution_count": 97,
   "id": "58f5f6c6-2c0f-47b4-8aa0-4eca671eaefe",
   "metadata": {},
   "outputs": [
    {
     "name": "stdout",
     "output_type": "stream",
     "text": [
      "(20, 10, 16, 19, 25, 1, 276, 188)\n",
      "19 is odd\n",
      "25 is odd\n",
      "1 is odd\n"
     ]
    }
   ],
   "source": [
    "num_of_list = (20,10,16,19,25,1,276,188)\n",
    "print(num_of_list)\n",
    "for i in num_of_list:\n",
    "    if i % 2 != 0:\n",
    "        print(i,\"is odd\")"
   ]
  },
  {
   "cell_type": "code",
   "execution_count": 105,
   "id": "9a8cbc13-adf4-4920-b520-307e1ff18118",
   "metadata": {},
   "outputs": [
    {
     "name": "stdout",
     "output_type": "stream",
     "text": [
      "(20, 10, 16, 19, 25, 1, 276, 188)\n",
      "20 is even\n",
      "10 is even\n",
      "16 is even\n",
      "276 is even\n",
      "188 is even\n"
     ]
    }
   ],
   "source": [
    "num_of_list = (20,10,16,19,25,1,276,188)\n",
    "print(num_of_list)\n",
    "for i in num_of_list:\n",
    "    if i % 2==0:\n",
    "        print(i,\"is even\")"
   ]
  }
 ],
 "metadata": {
  "kernelspec": {
   "display_name": "Python [conda env:base] *",
   "language": "python",
   "name": "conda-base-py"
  },
  "language_info": {
   "codemirror_mode": {
    "name": "ipython",
    "version": 3
   },
   "file_extension": ".py",
   "mimetype": "text/x-python",
   "name": "python",
   "nbconvert_exporter": "python",
   "pygments_lexer": "ipython3",
   "version": "3.12.7"
  }
 },
 "nbformat": 4,
 "nbformat_minor": 5
}
