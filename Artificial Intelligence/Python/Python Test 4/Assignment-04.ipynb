{
 "cells": [
  {
   "cell_type": "code",
   "execution_count": 9,
   "id": "a3b7efdd-0b56-4abd-9366-388125099125",
   "metadata": {},
   "outputs": [
    {
     "name": "stdin",
     "output_type": "stream",
     "text": [
      "Value: 10\n"
     ]
    },
    {
     "name": "stdout",
     "output_type": "stream",
     "text": [
      "Correct\n"
     ]
    }
   ],
   "source": [
    "1.# print ‘CORRECT’ if i == 10.\n",
    "i = int(input(\"Value:\"))\n",
    "if(i==10):\n",
    "        print(\"Correct\")"
   ]
  },
  {
   "cell_type": "code",
   "execution_count": 5,
   "id": "ce56c3fb-27d5-46ff-aefd-a05179a1672d",
   "metadata": {
    "jupyter": {
     "source_hidden": true
    }
   },
   "outputs": [
    {
     "name": "stdin",
     "output_type": "stream",
     "text": [
      "Enter the password:  marstech@123\n"
     ]
    },
    {
     "name": "stdout",
     "output_type": "stream",
     "text": [
      "Your password is correct\n"
     ]
    }
   ],
   "source": [
    "2.# Check the password, using if and else.\n",
    "passwd = input(\"Enter the password: \")\n",
    "if(passwd == \"marstech@123\"):\n",
    "    print(\"Your password is correct\")\n",
    "\n",
    "else:\n",
    "    print(\"Your Password is Wrong, Please try again\")"
   ]
  },
  {
   "cell_type": "code",
   "execution_count": 1,
   "id": "2ffd610c-3a8e-4b28-8fc6-433659476a5a",
   "metadata": {},
   "outputs": [
    {
     "name": "stdin",
     "output_type": "stream",
     "text": [
      "Enter Your Age:  25\n"
     ]
    },
    {
     "name": "stdout",
     "output_type": "stream",
     "text": [
      "Citizen\n"
     ]
    }
   ],
   "source": [
    "3.#Catagory the people by their age like children, adult, citizen, senior citizen...\n",
    "age = int(input(\"Enter Your Age: \"))\n",
    "if(age<18):\n",
    "    print(\"Children\")\n",
    "elif(age>=18 and age<=20):\n",
    "    print(\"Adult\")\n",
    "elif(age>20 and age<=40): \n",
    "    print(\"Citizen\")   \n",
    "else:\n",
    "    (\"Senior Citizen\")"
   ]
  },
  {
   "cell_type": "code",
   "execution_count": 99,
   "id": "f734f67a-574e-4f2b-a452-466fbb6e3151",
   "metadata": {},
   "outputs": [
    {
     "name": "stdin",
     "output_type": "stream",
     "text": [
      "Enter Any number: 2\n"
     ]
    },
    {
     "name": "stdout",
     "output_type": "stream",
     "text": [
      "No is Positive\n"
     ]
    }
   ],
   "source": [
    "4.#Find whether given number is positive or negative.\n",
    "num = int(input(\"Enter Any number:\"))\n",
    "if(num>0):\n",
    "    print(\"No is Positive\")\n",
    "elif(num<0):\n",
    "    print(\"No is Negative\")\n",
    "else:\n",
    "    print(\"Equal to zero\")"
   ]
  },
  {
   "cell_type": "code",
   "execution_count": 105,
   "id": "3b9abfd1-d61b-42ce-8dcf-6ebc06a57387",
   "metadata": {},
   "outputs": [
    {
     "name": "stdin",
     "output_type": "stream",
     "text": [
      "Enter a Number to Check: 22\n"
     ]
    },
    {
     "name": "stdout",
     "output_type": "stream",
     "text": [
      "No is not divisible by 5\n"
     ]
    }
   ],
   "source": [
    "5.#Check whether the given number is divisible by 5\n",
    "number = int(input(\"Enter a Number to Check:\"))\n",
    "if(num%5==0):\n",
    "    print(\"No is divisible by 5\")\n",
    "else:\n",
    "    print(\"No is not divisible by 5\")"
   ]
  }
 ],
 "metadata": {
  "kernelspec": {
   "display_name": "Python [conda env:base] *",
   "language": "python",
   "name": "conda-base-py"
  },
  "language_info": {
   "codemirror_mode": {
    "name": "ipython",
    "version": 3
   },
   "file_extension": ".py",
   "mimetype": "text/x-python",
   "name": "python",
   "nbconvert_exporter": "python",
   "pygments_lexer": "ipython3",
   "version": "3.12.7"
  }
 },
 "nbformat": 4,
 "nbformat_minor": 5
}
