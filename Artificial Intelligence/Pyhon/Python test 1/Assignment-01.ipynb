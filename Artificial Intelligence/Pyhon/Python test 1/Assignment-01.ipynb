{
 "cells": [
  {
   "cell_type": "code",
   "execution_count": 1,
   "id": "fc10e04e-242c-42a7-ae0c-940b60ea4565",
   "metadata": {},
   "outputs": [
    {
     "name": "stdout",
     "output_type": "stream",
     "text": [
      "Welcome to Assignment-1\n"
     ]
    }
   ],
   "source": [
    "print (\"Welcome to Assignment-1\")"
   ]
  },
  {
   "cell_type": "code",
   "execution_count": 3,
   "id": "69fe3ebf-9208-4681-9f37-dbe2451ba80c",
   "metadata": {},
   "outputs": [
    {
     "name": "stdout",
     "output_type": "stream",
     "text": [
      "Nun1=10\n",
      "Nun2=30\n",
      "Add= 40\n"
     ]
    }
   ],
   "source": [
    "Nun1=10\n",
    "Nun2=30\n",
    "Add= Nun1 + Nun2\n",
    "print (\"Nun1=10\\nNun2=30\")\n",
    "print(\"Add=\",Add)"
   ]
  },
  {
   "cell_type": "code",
   "execution_count": 41,
   "id": "10d63414-b5bd-455d-b384-a0954787c81a",
   "metadata": {},
   "outputs": [
    {
     "name": "stdout",
     "output_type": "stream",
     "text": [
      "Find Your Body Mass Index\n"
     ]
    },
    {
     "name": "stdin",
     "output_type": "stream",
     "text": [
      "Enter Your BMI Index: 34\n"
     ]
    },
    {
     "name": "stdout",
     "output_type": "stream",
     "text": [
      "Very OwerWeight\n"
     ]
    }
   ],
   "source": [
    "print(\"Find Your Body Mass Index\")\n",
    "bmi = int(input(\"Enter Your BMI Index:\"))\n",
    "if(bmi<16):\n",
    "    print(\"Severe Thinness\")\n",
    "\n",
    "elif(bmi>=16 and bmi<=18):\n",
    "    print(\"Moderate Thinness\")\n",
    "\n",
    "elif(bmi>=18 and bmi<20):\n",
    "    print(\"Mild Thinness\")\n",
    "\n",
    "elif(bmi>=20 and bmi<25):\n",
    "    print(\"Normal\")\n",
    "\n",
    "elif(bmi>=25 and bmi<30):\n",
    "    print(\"Ower Weight\")\n",
    "\n",
    "elif(bmi>=30 and bmi<=35):\n",
    "    print(\"Very OwerWeight\")\n",
    "\n",
    "elif(bmi>35 and bmi<40):\n",
    "    print(\"Obese Class I\")\n",
    "\n",
    "else:\n",
    "    print(\"Obese Class II\")\n"
   ]
  }
 ],
 "metadata": {
  "kernelspec": {
   "display_name": "Python [conda env:base] *",
   "language": "python",
   "name": "conda-base-py"
  },
  "language_info": {
   "codemirror_mode": {
    "name": "ipython",
    "version": 3
   },
   "file_extension": ".py",
   "mimetype": "text/x-python",
   "name": "python",
   "nbconvert_exporter": "python",
   "pygments_lexer": "ipython3",
   "version": "3.12.7"
  }
 },
 "nbformat": 4,
 "nbformat_minor": 5
}
