{
 "cells": [
  {
   "cell_type": "code",
   "execution_count": 7,
   "id": "5c35cdaf-0ec7-4b13-b884-2ee3cb41642f",
   "metadata": {},
   "outputs": [
    {
     "name": "stdout",
     "output_type": "stream",
     "text": [
      "Mars Tech\n"
     ]
    }
   ],
   "source": [
    "#print Statement\n",
    "print(\"Mars Tech\")"
   ]
  },
  {
   "cell_type": "code",
   "execution_count": 9,
   "id": "8b0b7841-4675-4f5c-a894-707346c77cbd",
   "metadata": {},
   "outputs": [
    {
     "name": "stdin",
     "output_type": "stream",
     "text": [
      "Enter Your Institute Name: ? Mars Tech\n"
     ]
    }
   ],
   "source": [
    "#Buy input\n",
    "mars = input(\"Enter Your Institute Name: ?\") "
   ]
  },
  {
   "cell_type": "code",
   "execution_count": 11,
   "id": "994bfa93-ca28-474f-a7d4-a4d0996863e4",
   "metadata": {},
   "outputs": [
    {
     "name": "stdin",
     "output_type": "stream",
     "text": [
      "Enter Your Name:  Raj\n",
      "Enter Your Age: 15\n",
      "Enter Your School Name:  Guru School\n",
      "Enter Your Degree: B.E CSE\n"
     ]
    }
   ],
   "source": [
    "#Buy inputs\n",
    "name = input(\"Enter Your Name:\") \n",
    "age = int(input(\"Enter Your Age:\")) \n",
    "school = input(\"Enter Your School Name:\")\n",
    "degree = input(\"Enter Your Degree:\") "
   ]
  },
  {
   "cell_type": "code",
   "execution_count": 13,
   "id": "9e1c4e78-f16c-4bbe-8c10-042f1cf9dfc1",
   "metadata": {},
   "outputs": [
    {
     "name": "stdout",
     "output_type": "stream",
     "text": [
      "a = 43\n",
      "b = 34\n",
      "add =  77\n"
     ]
    }
   ],
   "source": [
    "#Addition\n",
    "a = 43\n",
    "b = 34\n",
    "add = a + b\n",
    "print (\"a = 43\\nb = 34\\nadd = \",add)"
   ]
  },
  {
   "cell_type": "code",
   "execution_count": 15,
   "id": "63b5bcf9-f351-42aa-bd33-567682a9e5d8",
   "metadata": {},
   "outputs": [
    {
     "name": "stdout",
     "output_type": "stream",
     "text": [
      "a = 43\n",
      "b = 34\n",
      "add =  9\n"
     ]
    }
   ],
   "source": [
    "#Subtraction\n",
    "a = 43\n",
    "b = 34\n",
    "Add = a - b\n",
    "print (\"a = 43\\nb = 34\\nadd = \",Add)\n"
   ]
  },
  {
   "cell_type": "code",
   "execution_count": 17,
   "id": "f5513787-4dae-484f-a97a-058fd6f98c38",
   "metadata": {},
   "outputs": [
    {
     "name": "stdout",
     "output_type": "stream",
     "text": [
      "a = 63\n",
      "b = 97\n",
      "mul = 6111\n"
     ]
    }
   ],
   "source": [
    "#Multiplication\n",
    "a = 63\n",
    "b = 97\n",
    "Mul = a * b\n",
    "print (\"a = 63\\nb = 97\\nmul =\",Mul)"
   ]
  },
  {
   "cell_type": "code",
   "execution_count": 19,
   "id": "265c2903-3355-4f9e-becd-95901d4562c2",
   "metadata": {},
   "outputs": [
    {
     "name": "stdout",
     "output_type": "stream",
     "text": [
      "a = 76\n",
      "b = 31\n",
      "Float Div = 2.4516129032258065\n"
     ]
    }
   ],
   "source": [
    "#Division\n",
    "a = 76\n",
    "b = 31\n",
    "Div = a / b\n",
    "print (\"a = 76\\nb = 31\\nFloat Div =\",Div)\n"
   ]
  },
  {
   "cell_type": "code",
   "execution_count": 21,
   "id": "3831676c-14b7-4081-b491-e10d51dbb198",
   "metadata": {},
   "outputs": [
    {
     "name": "stdout",
     "output_type": "stream",
     "text": [
      "a = 76\n",
      "b = 31\n",
      "Floar Div = 2\n"
     ]
    }
   ],
   "source": [
    "#Floor Division\n",
    "import math\n",
    "a = 76\n",
    "b = 31\n",
    "Div = math.floor(a / b)\n",
    "print (\"a = 76\\nb = 31\\nFloar Div =\",Div)"
   ]
  },
  {
   "cell_type": "code",
   "execution_count": 23,
   "id": "244f287a-062c-437d-9bb4-646dcebd64d2",
   "metadata": {},
   "outputs": [
    {
     "name": "stdout",
     "output_type": "stream",
     "text": [
      "a = 76\n",
      "b = 31\n",
      "Modulo = 14\n"
     ]
    }
   ],
   "source": [
    "#Modulo\n",
    "a = 76\n",
    "b = 31\n",
    "Modulo = a % b\n",
    "print (\"a = 76\\nb = 31\\nModulo =\",Modulo)"
   ]
  },
  {
   "cell_type": "code",
   "execution_count": 25,
   "id": "0b315e15-026e-44fa-b5b0-6c99d552c99a",
   "metadata": {},
   "outputs": [
    {
     "name": "stdout",
     "output_type": "stream",
     "text": [
      "a = 4\n",
      "b = 4\n",
      "Power = 256\n"
     ]
    }
   ],
   "source": [
    "#Power\n",
    "a = 4\n",
    "b = 4\n",
    "Power = a ** b\n",
    "print (\"a = 4\\nb = 4\\nPower =\",Power)"
   ]
  },
  {
   "cell_type": "code",
   "execution_count": null,
   "id": "6bac0c8b-9d86-4d43-ada1-6f40f98b2a52",
   "metadata": {},
   "outputs": [],
   "source": []
  }
 ],
 "metadata": {
  "kernelspec": {
   "display_name": "Python [conda env:base] *",
   "language": "python",
   "name": "conda-base-py"
  },
  "language_info": {
   "codemirror_mode": {
    "name": "ipython",
    "version": 3
   },
   "file_extension": ".py",
   "mimetype": "text/x-python",
   "name": "python",
   "nbconvert_exporter": "python",
   "pygments_lexer": "ipython3",
   "version": "3.12.7"
  }
 },
 "nbformat": 4,
 "nbformat_minor": 5
}
